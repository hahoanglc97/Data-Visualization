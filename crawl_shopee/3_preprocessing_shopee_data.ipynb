{
 "cells": [
  {
   "cell_type": "code",
   "execution_count": 225,
   "metadata": {},
   "outputs": [],
   "source": [
    "import pandas as pd\n",
    "import constants as const\n",
    "import numpy as np"
   ]
  },
  {
   "cell_type": "code",
   "execution_count": 255,
   "metadata": {},
   "outputs": [],
   "source": [
    "# df1 = pd.read_csv(f'./data/extracted/thoi_trang_raw.csv', index_col=0)\n",
    "df1 = pd.read_csv(f'./data/extracted/do_dien_tu_raw.csv', index_col=0)"
   ]
  },
  {
   "attachments": {},
   "cell_type": "markdown",
   "metadata": {},
   "source": [
    "#### replace none, empty data by nan value\n"
   ]
  },
  {
   "cell_type": "code",
   "execution_count": 256,
   "metadata": {},
   "outputs": [],
   "source": [
    "df1.replace({'None': np.nan, '': np.nan}, inplace=True)"
   ]
  },
  {
   "cell_type": "code",
   "execution_count": 257,
   "metadata": {},
   "outputs": [
    {
     "data": {
      "text/plain": [
       "Product Name          0\n",
       "Price                10\n",
       "Brand              3624\n",
       "Categories            0\n",
       "Product Sold          0\n",
       "Stock               308\n",
       "Rating                0\n",
       "5 Start               0\n",
       "4 Start               0\n",
       "3 Start               0\n",
       "2 Start               0\n",
       "1 Start               0\n",
       "Total Rating          0\n",
       "No of Comments        0\n",
       "Image and Video       0\n",
       "dtype: int64"
      ]
     },
     "execution_count": 257,
     "metadata": {},
     "output_type": "execute_result"
    }
   ],
   "source": [
    "df1.isnull().sum()"
   ]
  },
  {
   "attachments": {},
   "cell_type": "markdown",
   "metadata": {},
   "source": [
    "# Data Cleaning"
   ]
  },
  {
   "attachments": {},
   "cell_type": "markdown",
   "metadata": {},
   "source": [
    "#### Clean rating"
   ]
  },
  {
   "cell_type": "code",
   "execution_count": 258,
   "metadata": {},
   "outputs": [],
   "source": [
    "df1[\"5 Start\"] = df1['5 Start'].str.extract(r'(\\([,.\\d]*k*\\))')\n",
    "df1[\"5 Start\"] = df1['5 Start'].replace({',':'.'}, regex=True).replace({'k': '*1e3'}, regex=True).map(pd.eval).astype(int)\n",
    "\n",
    "df1[\"4 Start\"] = df1['4 Start'].str.extract(r'(\\([,.\\d]*k*\\))')\n",
    "df1[\"4 Start\"] = df1['4 Start'].replace({',':'.'}, regex=True).replace({'k': '*1e3'}, regex=True).map(pd.eval).astype(int)\n",
    "\n",
    "df1[\"3 Start\"] = df1['3 Start'].str.extract(r'(\\([,.\\d]*k*\\))')\n",
    "df1[\"3 Start\"] = df1['3 Start'].replace({',':'.'}, regex=True).replace({'k': '*1e3'}, regex=True).map(pd.eval).astype(int)\n",
    "\n",
    "df1[\"2 Start\"] = df1['2 Start'].str.extract(r'(\\([,.\\d]*k*\\))')\n",
    "df1[\"2 Start\"] = df1['2 Start'].replace({',':'.'}, regex=True).replace({'k': '*1e3'}, regex=True).map(pd.eval).astype(int)\n",
    "\n",
    "df1[\"1 Start\"] = df1['1 Start'].str.extract(r'(\\([,.\\d]*k*\\))')\n",
    "df1[\"1 Start\"] = df1['1 Start'].replace({',':'.'}, regex=True).replace({'k': '*1e3'}, regex=True).map(pd.eval).astype(int)\n",
    "\n",
    "df1['Rating'] = df1['Rating'].astype(float)"
   ]
  },
  {
   "cell_type": "code",
   "execution_count": 259,
   "metadata": {},
   "outputs": [],
   "source": [
    "def calc_rating(row):\n",
    "    total = row['5 Start'] + row['4 Start'] + row['3 Start'] + row['2 Start'] + row['1 Start']\n",
    "    rate = 0\n",
    "    if total > 0:\n",
    "        rate = round((5*row['5 Start'] + 4*row['4 Start'] + 3*row['3 Start'] + 2*row['2 Start'] + 1*row['1 Start'])/total,1)\n",
    "    return rate"
   ]
  },
  {
   "cell_type": "code",
   "execution_count": 260,
   "metadata": {},
   "outputs": [],
   "source": [
    "# df1['Rating'] = df1['Rating'].apply(lambda row:  if type(row) is not float else np.nan)\n",
    "df1['Rating'] = df1.apply(calc_rating, axis=1)"
   ]
  },
  {
   "cell_type": "code",
   "execution_count": 261,
   "metadata": {},
   "outputs": [],
   "source": [
    "df1[\"Total Rating\"] = df1['Total Rating'].replace({',':'.'}, regex=True).replace({'k': '*1e3'}, regex=True).map(pd.eval).astype(int)"
   ]
  },
  {
   "cell_type": "code",
   "execution_count": 262,
   "metadata": {},
   "outputs": [],
   "source": [
    "df1[\"No of Comments\"] = df1['No of Comments'].str.extract(r'(\\([,.\\d]*k*\\))')\n",
    "df1[\"Image and Video\"] = df1['Image and Video'].str.extract(r'(\\([,.\\d]*k*\\))')"
   ]
  },
  {
   "cell_type": "code",
   "execution_count": 263,
   "metadata": {},
   "outputs": [],
   "source": [
    "df1[\"No of Comments\"] = df1['No of Comments'].replace({',':'.'}, regex=True).replace({'k': '*1e3'}, regex=True).map(pd.eval).astype(int)\n",
    "df1[\"Image and Video\"] = df1['Image and Video'].replace({',':'.'}, regex=True).replace({'k': '*1e3'}, regex=True).map(pd.eval).astype(int)"
   ]
  },
  {
   "attachments": {},
   "cell_type": "markdown",
   "metadata": {},
   "source": [
    "### Clean Brand"
   ]
  },
  {
   "cell_type": "code",
   "execution_count": 264,
   "metadata": {},
   "outputs": [],
   "source": [
    "brands = df1['Brand'].unique()"
   ]
  },
  {
   "cell_type": "code",
   "execution_count": 265,
   "metadata": {},
   "outputs": [],
   "source": [
    "def lookupBrand(name):\n",
    "  return next((x for x in brands if str(x).lower().strip() in name.lower()), np.nan)"
   ]
  },
  {
   "cell_type": "code",
   "execution_count": 266,
   "metadata": {},
   "outputs": [
    {
     "data": {
      "text/plain": [
       "0          NEC\n",
       "1           HP\n",
       "2         Asus\n",
       "3         Asus\n",
       "4           HP\n",
       "         ...  \n",
       "6784    Xiaomi\n",
       "6785    ZOLELE\n",
       "6786      YILI\n",
       "6787     Midea\n",
       "6788    deerma\n",
       "Name: Brand, Length: 6789, dtype: object"
      ]
     },
     "execution_count": 266,
     "metadata": {},
     "output_type": "execute_result"
    }
   ],
   "source": [
    "df1['Brand'] = df1.apply(lambda x: x['Brand'] if not pd.isnull(x['Brand']) else lookupBrand(x['Product Name']), axis=1)\n",
    "df1['Brand'] = df1.apply(lambda x: x['Brand'] if not pd.isnull(x['Brand']) else lookupBrand(x['Categories']), axis=1)\n",
    "df1['Brand'].fillna(method='ffill')"
   ]
  },
  {
   "attachments": {},
   "cell_type": "markdown",
   "metadata": {},
   "source": [
    "#### Product Name - Remove Unknown Character \n"
   ]
  },
  {
   "cell_type": "code",
   "execution_count": 267,
   "metadata": {},
   "outputs": [],
   "source": [
    "import re\n",
    "def deEmojify(text):\n",
    "    regrex_pattern = re.compile(pattern = \"[\"\n",
    "        u\"\\U0001F600-\\U0001F64F\"  # emoticons\n",
    "        u\"\\U0001F300-\\U0001F5FF\"  # symbols & pictographs\n",
    "        u\"\\U0001F680-\\U0001F6FF\"  # transport & map symbols\n",
    "        u\"\\U0001F1E0-\\U0001F1FF\"  # flags (iOS)\n",
    "                           \"]+\", flags = re.UNICODE)\n",
    "    return regrex_pattern.sub(r'',text)"
   ]
  },
  {
   "cell_type": "code",
   "execution_count": 268,
   "metadata": {},
   "outputs": [],
   "source": [
    "df1['Product Name'] = df1['Product Name'].apply(lambda x: deEmojify(x))\n",
    "# df1['Product Name'] = df1['Product Name'].str.replace(r'[^\\x00-\\x7F]+', '')"
   ]
  },
  {
   "attachments": {},
   "cell_type": "markdown",
   "metadata": {},
   "source": [
    "#### Price"
   ]
  },
  {
   "cell_type": "code",
   "execution_count": 269,
   "metadata": {},
   "outputs": [],
   "source": [
    "def average(lst):\n",
    "  return round(sum(lst) / len(lst), 2)"
   ]
  },
  {
   "cell_type": "code",
   "execution_count": 270,
   "metadata": {},
   "outputs": [
    {
     "name": "stderr",
     "output_type": "stream",
     "text": [
      "/var/folders/y8/snwjrj_d75v27837y00p3vk80000gn/T/ipykernel_23351/2955519610.py:1: FutureWarning: The default value of regex will change from True to False in a future version. In addition, single character regular expressions will *not* be treated as literal strings when regex=True.\n",
      "  df1['Price'] = df1['Price'].str.replace('₫', '').str.replace('.', '').str.split('-').apply(lambda row: average([float(x.strip(' ')) for x in row]) if type(row) is not float else np.nan)\n"
     ]
    }
   ],
   "source": [
    "df1['Price'] = df1['Price'].str.replace('₫', '').str.replace('.', '').str.split('-').apply(lambda row: average([float(x.strip(' ')) for x in row]) if type(row) is not float else np.nan)\n"
   ]
  },
  {
   "cell_type": "code",
   "execution_count": 271,
   "metadata": {},
   "outputs": [],
   "source": [
    "df1[\"Price\"].fillna((df1[\"Price\"].mean()),inplace = True)\n",
    "df1[\"Price\"] = df1[\"Price\"].astype(\"float\").round(2)"
   ]
  },
  {
   "attachments": {},
   "cell_type": "markdown",
   "metadata": {},
   "source": [
    "### Product Sold and stock"
   ]
  },
  {
   "cell_type": "code",
   "execution_count": 272,
   "metadata": {},
   "outputs": [],
   "source": [
    "df1[\"Product Sold\"] = df1['Product Sold'].str.extract(r'(\\d+[.,\\d]*k*)')\n",
    "# df1['Product Sold'].fillna((df1['Product Sold'].mean()), inplace=True)"
   ]
  },
  {
   "cell_type": "code",
   "execution_count": 273,
   "metadata": {},
   "outputs": [],
   "source": [
    "df1[\"Product Sold\"] = df1['Product Sold'].replace({',':'.'}, regex=True).replace({'k': '*1e3'}, regex=True).map(pd.eval).astype(int)\n"
   ]
  },
  {
   "cell_type": "code",
   "execution_count": 274,
   "metadata": {},
   "outputs": [],
   "source": [
    "df1['Product Sold'].fillna((df1['Product Sold'].mean()), inplace=True)"
   ]
  },
  {
   "cell_type": "code",
   "execution_count": 275,
   "metadata": {},
   "outputs": [],
   "source": [
    "df1['Stock'] = df1['Stock'].astype(float)\n",
    "df1['Stock'].interpolate(method='linear')\n",
    "df1['Stock'].fillna((round(df1['Stock'].mean(),0)), inplace=True)\n"
   ]
  },
  {
   "attachments": {},
   "cell_type": "markdown",
   "metadata": {},
   "source": [
    "#### Get parent category"
   ]
  },
  {
   "cell_type": "code",
   "execution_count": 276,
   "metadata": {},
   "outputs": [],
   "source": [
    "df1['Parent Category'] = df1['Categories'].str.split('/').str[0]"
   ]
  },
  {
   "cell_type": "code",
   "execution_count": 277,
   "metadata": {},
   "outputs": [],
   "source": [
    "df1.fillna(method='ffill', inplace=True)"
   ]
  },
  {
   "cell_type": "code",
   "execution_count": 278,
   "metadata": {},
   "outputs": [
    {
     "data": {
      "text/plain": [
       "Product Name        object\n",
       "Price              float64\n",
       "Brand               object\n",
       "Categories          object\n",
       "Product Sold         int64\n",
       "Stock              float64\n",
       "Rating             float64\n",
       "5 Start              int64\n",
       "4 Start              int64\n",
       "3 Start              int64\n",
       "2 Start              int64\n",
       "1 Start              int64\n",
       "Total Rating         int64\n",
       "No of Comments       int64\n",
       "Image and Video      int64\n",
       "Parent Category     object\n",
       "dtype: object"
      ]
     },
     "execution_count": 278,
     "metadata": {},
     "output_type": "execute_result"
    }
   ],
   "source": [
    "df1.dtypes"
   ]
  },
  {
   "cell_type": "code",
   "execution_count": 279,
   "metadata": {},
   "outputs": [
    {
     "data": {
      "text/plain": [
       "Product Name       0\n",
       "Price              0\n",
       "Brand              0\n",
       "Categories         0\n",
       "Product Sold       0\n",
       "Stock              0\n",
       "Rating             0\n",
       "5 Start            0\n",
       "4 Start            0\n",
       "3 Start            0\n",
       "2 Start            0\n",
       "1 Start            0\n",
       "Total Rating       0\n",
       "No of Comments     0\n",
       "Image and Video    0\n",
       "Parent Category    0\n",
       "dtype: int64"
      ]
     },
     "execution_count": 279,
     "metadata": {},
     "output_type": "execute_result"
    }
   ],
   "source": [
    "df1.isnull().sum()"
   ]
  },
  {
   "cell_type": "code",
   "execution_count": 280,
   "metadata": {},
   "outputs": [],
   "source": [
    "df1[\"Product Name\"] = df1[\"Product Name\"].astype('string')\n",
    "df1[\"Brand\"] = df1[\"Brand\"].astype('string')\n",
    "df1[\"Categories\"] = df1[\"Categories\"].astype('string')\n",
    "df1[\"Parent Category\"] = df1[\"Parent Category\"].astype('string')\n",
    "df1[\"Stock\"] = df1[\"Stock\"].astype(int)\n"
   ]
  },
  {
   "cell_type": "code",
   "execution_count": 281,
   "metadata": {},
   "outputs": [
    {
     "data": {
      "text/plain": [
       "Product Name        string\n",
       "Price              float64\n",
       "Brand               string\n",
       "Categories          string\n",
       "Product Sold         int64\n",
       "Stock                int64\n",
       "Rating             float64\n",
       "5 Start              int64\n",
       "4 Start              int64\n",
       "3 Start              int64\n",
       "2 Start              int64\n",
       "1 Start              int64\n",
       "Total Rating         int64\n",
       "No of Comments       int64\n",
       "Image and Video      int64\n",
       "Parent Category     string\n",
       "dtype: object"
      ]
     },
     "execution_count": 281,
     "metadata": {},
     "output_type": "execute_result"
    }
   ],
   "source": [
    "df1.dtypes"
   ]
  },
  {
   "attachments": {},
   "cell_type": "markdown",
   "metadata": {},
   "source": [
    "## Export to file"
   ]
  },
  {
   "cell_type": "code",
   "execution_count": 282,
   "metadata": {},
   "outputs": [],
   "source": [
    "df1.to_csv('./data/extracted/do_dien_tu.csv')"
   ]
  }
 ],
 "metadata": {
  "kernelspec": {
   "display_name": "test_crawl",
   "language": "python",
   "name": "python3"
  },
  "language_info": {
   "codemirror_mode": {
    "name": "ipython",
    "version": 3
   },
   "file_extension": ".py",
   "mimetype": "text/x-python",
   "name": "python",
   "nbconvert_exporter": "python",
   "pygments_lexer": "ipython3",
   "version": "3.8.15"
  },
  "orig_nbformat": 4,
  "vscode": {
   "interpreter": {
    "hash": "fd2b7f9ba25d047457c4200e71863d31b38715de99ffa44e5e70c82f7aa9d44c"
   }
  }
 },
 "nbformat": 4,
 "nbformat_minor": 2
}
