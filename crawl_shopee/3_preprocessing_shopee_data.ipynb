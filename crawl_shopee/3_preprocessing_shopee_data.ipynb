{
 "cells": [
  {
   "cell_type": "code",
   "execution_count": 2,
   "metadata": {},
   "outputs": [],
   "source": [
    "import pandas as pd\n",
    "import constants as const\n",
    "import numpy as np"
   ]
  },
  {
   "cell_type": "code",
   "execution_count": 3,
   "metadata": {},
   "outputs": [],
   "source": [
    "df1 = pd.read_csv(f'./data/extracted/thoi_trang_raw.csv', index_col=0)\n",
    "# df1 = pd.read_csv(f'./data/extracted/do_dien_tu_raw.csv', index_col=0)"
   ]
  },
  {
   "cell_type": "code",
   "execution_count": 6,
   "metadata": {},
   "outputs": [
    {
     "data": {
      "text/html": [
       "<div>\n",
       "<style scoped>\n",
       "    .dataframe tbody tr th:only-of-type {\n",
       "        vertical-align: middle;\n",
       "    }\n",
       "\n",
       "    .dataframe tbody tr th {\n",
       "        vertical-align: top;\n",
       "    }\n",
       "\n",
       "    .dataframe thead th {\n",
       "        text-align: right;\n",
       "    }\n",
       "</style>\n",
       "<table border=\"1\" class=\"dataframe\">\n",
       "  <thead>\n",
       "    <tr style=\"text-align: right;\">\n",
       "      <th></th>\n",
       "      <th>Product Name</th>\n",
       "      <th>Price</th>\n",
       "      <th>Brand</th>\n",
       "      <th>Categories</th>\n",
       "      <th>Product Sold</th>\n",
       "      <th>Stock</th>\n",
       "      <th>Rating</th>\n",
       "      <th>5 Start</th>\n",
       "      <th>4 Start</th>\n",
       "      <th>3 Start</th>\n",
       "      <th>2 Start</th>\n",
       "      <th>1 Start</th>\n",
       "      <th>Total Rating</th>\n",
       "      <th>No of Comments</th>\n",
       "      <th>Image and Video</th>\n",
       "    </tr>\n",
       "  </thead>\n",
       "  <tbody>\n",
       "    <tr>\n",
       "      <th>0</th>\n",
       "      <td>Porozi Áo sweater dệt kim tay dài cổ tròn thời...</td>\n",
       "      <td>₫139.000</td>\n",
       "      <td>porozi</td>\n",
       "      <td>Thời Trang Nữ/Áo len &amp; Cardigan</td>\n",
       "      <td>931</td>\n",
       "      <td>NaN</td>\n",
       "      <td>4.7</td>\n",
       "      <td>5 Sao (290)</td>\n",
       "      <td>4 Sao (10)</td>\n",
       "      <td>3 Sao (15)</td>\n",
       "      <td>2 Sao (4)</td>\n",
       "      <td>1 Sao (11)</td>\n",
       "      <td>330</td>\n",
       "      <td>Có Bình luận (166)</td>\n",
       "      <td>Có hình ảnh / video (143)</td>\n",
       "    </tr>\n",
       "    <tr>\n",
       "      <th>1</th>\n",
       "      <td>FREESHIP- Áo len cổ tròn màu xanh đính cúc pho...</td>\n",
       "      <td>₫99.000 - ₫205.000</td>\n",
       "      <td>NaN</td>\n",
       "      <td>Thời Trang Nữ/Áo len &amp; Cardigan</td>\n",
       "      <td>241</td>\n",
       "      <td>17</td>\n",
       "      <td>4.9</td>\n",
       "      <td>5 Sao (56)</td>\n",
       "      <td>4 Sao (5)</td>\n",
       "      <td>3 Sao (0)</td>\n",
       "      <td>2 Sao (0)</td>\n",
       "      <td>1 Sao (0)</td>\n",
       "      <td>61</td>\n",
       "      <td>Có Bình luận (45)</td>\n",
       "      <td>Có hình ảnh / video (39)</td>\n",
       "    </tr>\n",
       "    <tr>\n",
       "      <th>2</th>\n",
       "      <td>Áo len cho bố nam trung niên loại 1 đẹp dày dặ...</td>\n",
       "      <td>₫100.000</td>\n",
       "      <td>NaN</td>\n",
       "      <td>Thời Trang Nam/Áo Hoodie, Áo Len &amp; Áo Nỉ/Áo Len</td>\n",
       "      <td>176</td>\n",
       "      <td>280</td>\n",
       "      <td>4.6</td>\n",
       "      <td>5 Sao (37)</td>\n",
       "      <td>4 Sao (4)</td>\n",
       "      <td>3 Sao (4)</td>\n",
       "      <td>2 Sao (0)</td>\n",
       "      <td>1 Sao (2)</td>\n",
       "      <td>47</td>\n",
       "      <td>Có Bình luận (25)</td>\n",
       "      <td>Có hình ảnh / video (11)</td>\n",
       "    </tr>\n",
       "    <tr>\n",
       "      <th>3</th>\n",
       "      <td>Áo Len Nam Cổ Tròn Trơn SUKIYA Nhiều Màu, Đủ S...</td>\n",
       "      <td>₫164.250</td>\n",
       "      <td>SUKIYA JAPAN</td>\n",
       "      <td>Thời Trang Nam/Áo Hoodie, Áo Len &amp; Áo Nỉ/Áo Len</td>\n",
       "      <td>7,8k</td>\n",
       "      <td>83902</td>\n",
       "      <td>4.9</td>\n",
       "      <td>5 Sao (2,3k)</td>\n",
       "      <td>4 Sao (102)</td>\n",
       "      <td>3 Sao (41)</td>\n",
       "      <td>2 Sao (10)</td>\n",
       "      <td>1 Sao (22)</td>\n",
       "      <td>2,5k</td>\n",
       "      <td>Có Bình luận (1,3k)</td>\n",
       "      <td>Có hình ảnh / video (1k)</td>\n",
       "    </tr>\n",
       "    <tr>\n",
       "      <th>4</th>\n",
       "      <td>Áo khoác cardigan len lửng tay dài nhiều màu</td>\n",
       "      <td>₫215.000</td>\n",
       "      <td>NaN</td>\n",
       "      <td>Thời Trang Nữ/Áo len &amp; Cardigan</td>\n",
       "      <td>556</td>\n",
       "      <td>11</td>\n",
       "      <td>4.9</td>\n",
       "      <td>5 Sao (135)</td>\n",
       "      <td>4 Sao (7)</td>\n",
       "      <td>3 Sao (3)</td>\n",
       "      <td>2 Sao (0)</td>\n",
       "      <td>1 Sao (2)</td>\n",
       "      <td>147</td>\n",
       "      <td>Có Bình luận (86)</td>\n",
       "      <td>Có hình ảnh / video (75)</td>\n",
       "    </tr>\n",
       "  </tbody>\n",
       "</table>\n",
       "</div>"
      ],
      "text/plain": [
       "                                        Product Name               Price  \\\n",
       "0  Porozi Áo sweater dệt kim tay dài cổ tròn thời...            ₫139.000   \n",
       "1  FREESHIP- Áo len cổ tròn màu xanh đính cúc pho...  ₫99.000 - ₫205.000   \n",
       "2  Áo len cho bố nam trung niên loại 1 đẹp dày dặ...            ₫100.000   \n",
       "3  Áo Len Nam Cổ Tròn Trơn SUKIYA Nhiều Màu, Đủ S...            ₫164.250   \n",
       "4       Áo khoác cardigan len lửng tay dài nhiều màu            ₫215.000   \n",
       "\n",
       "          Brand                                       Categories Product Sold  \\\n",
       "0        porozi                  Thời Trang Nữ/Áo len & Cardigan          931   \n",
       "1           NaN                  Thời Trang Nữ/Áo len & Cardigan          241   \n",
       "2           NaN  Thời Trang Nam/Áo Hoodie, Áo Len & Áo Nỉ/Áo Len          176   \n",
       "3  SUKIYA JAPAN  Thời Trang Nam/Áo Hoodie, Áo Len & Áo Nỉ/Áo Len         7,8k   \n",
       "4           NaN                  Thời Trang Nữ/Áo len & Cardigan          556   \n",
       "\n",
       "   Stock  Rating       5 Start      4 Start     3 Start     2 Start  \\\n",
       "0    NaN     4.7   5 Sao (290)   4 Sao (10)  3 Sao (15)   2 Sao (4)   \n",
       "1     17     4.9    5 Sao (56)    4 Sao (5)   3 Sao (0)   2 Sao (0)   \n",
       "2    280     4.6    5 Sao (37)    4 Sao (4)   3 Sao (4)   2 Sao (0)   \n",
       "3  83902     4.9  5 Sao (2,3k)  4 Sao (102)  3 Sao (41)  2 Sao (10)   \n",
       "4     11     4.9   5 Sao (135)    4 Sao (7)   3 Sao (3)   2 Sao (0)   \n",
       "\n",
       "      1 Start Total Rating       No of Comments            Image and Video  \n",
       "0  1 Sao (11)          330   Có Bình luận (166)  Có hình ảnh / video (143)  \n",
       "1   1 Sao (0)           61    Có Bình luận (45)   Có hình ảnh / video (39)  \n",
       "2   1 Sao (2)           47    Có Bình luận (25)   Có hình ảnh / video (11)  \n",
       "3  1 Sao (22)         2,5k  Có Bình luận (1,3k)   Có hình ảnh / video (1k)  \n",
       "4   1 Sao (2)          147    Có Bình luận (86)   Có hình ảnh / video (75)  "
      ]
     },
     "execution_count": 6,
     "metadata": {},
     "output_type": "execute_result"
    }
   ],
   "source": [
    "df1.head()"
   ]
  },
  {
   "attachments": {},
   "cell_type": "markdown",
   "metadata": {},
   "source": [
    "#### replace none, empty data by nan value\n"
   ]
  },
  {
   "cell_type": "code",
   "execution_count": 4,
   "metadata": {},
   "outputs": [],
   "source": [
    "df1.replace({'None': np.nan, '': np.nan}, inplace=True)"
   ]
  },
  {
   "cell_type": "code",
   "execution_count": 5,
   "metadata": {},
   "outputs": [
    {
     "data": {
      "text/plain": [
       "Product Name          0\n",
       "Price                 4\n",
       "Brand              7928\n",
       "Categories            0\n",
       "Product Sold          0\n",
       "Stock               655\n",
       "Rating                0\n",
       "5 Start               0\n",
       "4 Start               0\n",
       "3 Start               0\n",
       "2 Start               0\n",
       "1 Start               0\n",
       "Total Rating          0\n",
       "No of Comments        0\n",
       "Image and Video       0\n",
       "dtype: int64"
      ]
     },
     "execution_count": 5,
     "metadata": {},
     "output_type": "execute_result"
    }
   ],
   "source": [
    "df1.isnull().sum()"
   ]
  },
  {
   "attachments": {},
   "cell_type": "markdown",
   "metadata": {},
   "source": [
    "# Data Cleaning"
   ]
  },
  {
   "attachments": {},
   "cell_type": "markdown",
   "metadata": {},
   "source": [
    "#### Clean rating"
   ]
  },
  {
   "cell_type": "code",
   "execution_count": 258,
   "metadata": {},
   "outputs": [],
   "source": [
    "df1[\"5 Start\"] = df1['5 Start'].str.extract(r'(\\([,.\\d]*k*\\))')\n",
    "df1[\"5 Start\"] = df1['5 Start'].replace({',':'.'}, regex=True).replace({'k': '*1e3'}, regex=True).map(pd.eval).astype(int)\n",
    "\n",
    "df1[\"4 Start\"] = df1['4 Start'].str.extract(r'(\\([,.\\d]*k*\\))')\n",
    "df1[\"4 Start\"] = df1['4 Start'].replace({',':'.'}, regex=True).replace({'k': '*1e3'}, regex=True).map(pd.eval).astype(int)\n",
    "\n",
    "df1[\"3 Start\"] = df1['3 Start'].str.extract(r'(\\([,.\\d]*k*\\))')\n",
    "df1[\"3 Start\"] = df1['3 Start'].replace({',':'.'}, regex=True).replace({'k': '*1e3'}, regex=True).map(pd.eval).astype(int)\n",
    "\n",
    "df1[\"2 Start\"] = df1['2 Start'].str.extract(r'(\\([,.\\d]*k*\\))')\n",
    "df1[\"2 Start\"] = df1['2 Start'].replace({',':'.'}, regex=True).replace({'k': '*1e3'}, regex=True).map(pd.eval).astype(int)\n",
    "\n",
    "df1[\"1 Start\"] = df1['1 Start'].str.extract(r'(\\([,.\\d]*k*\\))')\n",
    "df1[\"1 Start\"] = df1['1 Start'].replace({',':'.'}, regex=True).replace({'k': '*1e3'}, regex=True).map(pd.eval).astype(int)\n",
    "\n",
    "df1['Rating'] = df1['Rating'].astype(float)"
   ]
  },
  {
   "cell_type": "code",
   "execution_count": 259,
   "metadata": {},
   "outputs": [],
   "source": [
    "def calc_rating(row):\n",
    "    total = row['5 Start'] + row['4 Start'] + row['3 Start'] + row['2 Start'] + row['1 Start']\n",
    "    rate = 0\n",
    "    if total > 0:\n",
    "        rate = round((5*row['5 Start'] + 4*row['4 Start'] + 3*row['3 Start'] + 2*row['2 Start'] + 1*row['1 Start'])/total,1)\n",
    "    return rate"
   ]
  },
  {
   "cell_type": "code",
   "execution_count": 260,
   "metadata": {},
   "outputs": [],
   "source": [
    "# df1['Rating'] = df1['Rating'].apply(lambda row:  if type(row) is not float else np.nan)\n",
    "df1['Rating'] = df1.apply(calc_rating, axis=1)"
   ]
  },
  {
   "cell_type": "code",
   "execution_count": 261,
   "metadata": {},
   "outputs": [],
   "source": [
    "df1[\"Total Rating\"] = df1['Total Rating'].replace({',':'.'}, regex=True).replace({'k': '*1e3'}, regex=True).map(pd.eval).astype(int)"
   ]
  },
  {
   "cell_type": "code",
   "execution_count": 262,
   "metadata": {},
   "outputs": [],
   "source": [
    "df1[\"No of Comments\"] = df1['No of Comments'].str.extract(r'(\\([,.\\d]*k*\\))')\n",
    "df1[\"Image and Video\"] = df1['Image and Video'].str.extract(r'(\\([,.\\d]*k*\\))')"
   ]
  },
  {
   "cell_type": "code",
   "execution_count": 263,
   "metadata": {},
   "outputs": [],
   "source": [
    "df1[\"No of Comments\"] = df1['No of Comments'].replace({',':'.'}, regex=True).replace({'k': '*1e3'}, regex=True).map(pd.eval).astype(int)\n",
    "df1[\"Image and Video\"] = df1['Image and Video'].replace({',':'.'}, regex=True).replace({'k': '*1e3'}, regex=True).map(pd.eval).astype(int)"
   ]
  },
  {
   "attachments": {},
   "cell_type": "markdown",
   "metadata": {},
   "source": [
    "### Clean Brand"
   ]
  },
  {
   "cell_type": "code",
   "execution_count": 264,
   "metadata": {},
   "outputs": [],
   "source": [
    "brands = df1['Brand'].unique()"
   ]
  },
  {
   "cell_type": "code",
   "execution_count": 265,
   "metadata": {},
   "outputs": [],
   "source": [
    "def lookupBrand(name):\n",
    "  return next((x for x in brands if str(x).lower().strip() in name.lower()), np.nan)"
   ]
  },
  {
   "cell_type": "code",
   "execution_count": 266,
   "metadata": {},
   "outputs": [
    {
     "data": {
      "text/plain": [
       "0          NEC\n",
       "1           HP\n",
       "2         Asus\n",
       "3         Asus\n",
       "4           HP\n",
       "         ...  \n",
       "6784    Xiaomi\n",
       "6785    ZOLELE\n",
       "6786      YILI\n",
       "6787     Midea\n",
       "6788    deerma\n",
       "Name: Brand, Length: 6789, dtype: object"
      ]
     },
     "execution_count": 266,
     "metadata": {},
     "output_type": "execute_result"
    }
   ],
   "source": [
    "df1['Brand'] = df1.apply(lambda x: x['Brand'] if not pd.isnull(x['Brand']) else lookupBrand(x['Product Name']), axis=1)\n",
    "df1['Brand'] = df1.apply(lambda x: x['Brand'] if not pd.isnull(x['Brand']) else lookupBrand(x['Categories']), axis=1)\n",
    "df1['Brand'].fillna(method='ffill')"
   ]
  },
  {
   "attachments": {},
   "cell_type": "markdown",
   "metadata": {},
   "source": [
    "#### Product Name - Remove Unknown Character \n"
   ]
  },
  {
   "cell_type": "code",
   "execution_count": 267,
   "metadata": {},
   "outputs": [],
   "source": [
    "import re\n",
    "def deEmojify(text):\n",
    "    regrex_pattern = re.compile(pattern = \"[\"\n",
    "        u\"\\U0001F600-\\U0001F64F\"  # emoticons\n",
    "        u\"\\U0001F300-\\U0001F5FF\"  # symbols & pictographs\n",
    "        u\"\\U0001F680-\\U0001F6FF\"  # transport & map symbols\n",
    "        u\"\\U0001F1E0-\\U0001F1FF\"  # flags (iOS)\n",
    "                           \"]+\", flags = re.UNICODE)\n",
    "    return regrex_pattern.sub(r'',text)"
   ]
  },
  {
   "cell_type": "code",
   "execution_count": 268,
   "metadata": {},
   "outputs": [],
   "source": [
    "df1['Product Name'] = df1['Product Name'].apply(lambda x: deEmojify(x))\n",
    "# df1['Product Name'] = df1['Product Name'].str.replace(r'[^\\x00-\\x7F]+', '')"
   ]
  },
  {
   "attachments": {},
   "cell_type": "markdown",
   "metadata": {},
   "source": [
    "#### Price"
   ]
  },
  {
   "cell_type": "code",
   "execution_count": 269,
   "metadata": {},
   "outputs": [],
   "source": [
    "def average(lst):\n",
    "  return round(sum(lst) / len(lst), 2)"
   ]
  },
  {
   "cell_type": "code",
   "execution_count": 270,
   "metadata": {},
   "outputs": [
    {
     "name": "stderr",
     "output_type": "stream",
     "text": [
      "/var/folders/y8/snwjrj_d75v27837y00p3vk80000gn/T/ipykernel_23351/2955519610.py:1: FutureWarning: The default value of regex will change from True to False in a future version. In addition, single character regular expressions will *not* be treated as literal strings when regex=True.\n",
      "  df1['Price'] = df1['Price'].str.replace('₫', '').str.replace('.', '').str.split('-').apply(lambda row: average([float(x.strip(' ')) for x in row]) if type(row) is not float else np.nan)\n"
     ]
    }
   ],
   "source": [
    "df1['Price'] = df1['Price'].str.replace('₫', '').str.replace('.', '').str.split('-').apply(lambda row: average([float(x.strip(' ')) for x in row]) if type(row) is not float else np.nan)\n"
   ]
  },
  {
   "cell_type": "code",
   "execution_count": 271,
   "metadata": {},
   "outputs": [],
   "source": [
    "df1[\"Price\"].fillna((df1[\"Price\"].mean()),inplace = True)\n",
    "df1[\"Price\"] = df1[\"Price\"].astype(\"float\").round(2)"
   ]
  },
  {
   "attachments": {},
   "cell_type": "markdown",
   "metadata": {},
   "source": [
    "### Product Sold and stock"
   ]
  },
  {
   "cell_type": "code",
   "execution_count": 272,
   "metadata": {},
   "outputs": [],
   "source": [
    "df1[\"Product Sold\"] = df1['Product Sold'].str.extract(r'(\\d+[.,\\d]*k*)')\n",
    "# df1['Product Sold'].fillna((df1['Product Sold'].mean()), inplace=True)"
   ]
  },
  {
   "cell_type": "code",
   "execution_count": 273,
   "metadata": {},
   "outputs": [],
   "source": [
    "df1[\"Product Sold\"] = df1['Product Sold'].replace({',':'.'}, regex=True).replace({'k': '*1e3'}, regex=True).map(pd.eval).astype(int)\n"
   ]
  },
  {
   "cell_type": "code",
   "execution_count": 274,
   "metadata": {},
   "outputs": [],
   "source": [
    "df1['Product Sold'].fillna((df1['Product Sold'].mean()), inplace=True)"
   ]
  },
  {
   "cell_type": "code",
   "execution_count": 275,
   "metadata": {},
   "outputs": [],
   "source": [
    "df1['Stock'] = df1['Stock'].astype(float)\n",
    "df1['Stock'].interpolate(method='linear')\n",
    "df1['Stock'].fillna((round(df1['Stock'].mean(),0)), inplace=True)\n"
   ]
  },
  {
   "attachments": {},
   "cell_type": "markdown",
   "metadata": {},
   "source": [
    "#### Get parent category"
   ]
  },
  {
   "cell_type": "code",
   "execution_count": 276,
   "metadata": {},
   "outputs": [],
   "source": [
    "df1['Parent Category'] = df1['Categories'].str.split('/').str[0]"
   ]
  },
  {
   "cell_type": "code",
   "execution_count": 277,
   "metadata": {},
   "outputs": [],
   "source": [
    "df1.fillna(method='ffill', inplace=True)"
   ]
  },
  {
   "cell_type": "code",
   "execution_count": 278,
   "metadata": {},
   "outputs": [
    {
     "data": {
      "text/plain": [
       "Product Name        object\n",
       "Price              float64\n",
       "Brand               object\n",
       "Categories          object\n",
       "Product Sold         int64\n",
       "Stock              float64\n",
       "Rating             float64\n",
       "5 Start              int64\n",
       "4 Start              int64\n",
       "3 Start              int64\n",
       "2 Start              int64\n",
       "1 Start              int64\n",
       "Total Rating         int64\n",
       "No of Comments       int64\n",
       "Image and Video      int64\n",
       "Parent Category     object\n",
       "dtype: object"
      ]
     },
     "execution_count": 278,
     "metadata": {},
     "output_type": "execute_result"
    }
   ],
   "source": [
    "df1.dtypes"
   ]
  },
  {
   "cell_type": "code",
   "execution_count": 279,
   "metadata": {},
   "outputs": [
    {
     "data": {
      "text/plain": [
       "Product Name       0\n",
       "Price              0\n",
       "Brand              0\n",
       "Categories         0\n",
       "Product Sold       0\n",
       "Stock              0\n",
       "Rating             0\n",
       "5 Start            0\n",
       "4 Start            0\n",
       "3 Start            0\n",
       "2 Start            0\n",
       "1 Start            0\n",
       "Total Rating       0\n",
       "No of Comments     0\n",
       "Image and Video    0\n",
       "Parent Category    0\n",
       "dtype: int64"
      ]
     },
     "execution_count": 279,
     "metadata": {},
     "output_type": "execute_result"
    }
   ],
   "source": [
    "df1.isnull().sum()"
   ]
  },
  {
   "cell_type": "code",
   "execution_count": 280,
   "metadata": {},
   "outputs": [],
   "source": [
    "df1[\"Product Name\"] = df1[\"Product Name\"].astype('string')\n",
    "df1[\"Brand\"] = df1[\"Brand\"].astype('string')\n",
    "df1[\"Categories\"] = df1[\"Categories\"].astype('string')\n",
    "df1[\"Parent Category\"] = df1[\"Parent Category\"].astype('string')\n",
    "df1[\"Stock\"] = df1[\"Stock\"].astype(int)\n"
   ]
  },
  {
   "cell_type": "code",
   "execution_count": 281,
   "metadata": {},
   "outputs": [
    {
     "data": {
      "text/plain": [
       "Product Name        string\n",
       "Price              float64\n",
       "Brand               string\n",
       "Categories          string\n",
       "Product Sold         int64\n",
       "Stock                int64\n",
       "Rating             float64\n",
       "5 Start              int64\n",
       "4 Start              int64\n",
       "3 Start              int64\n",
       "2 Start              int64\n",
       "1 Start              int64\n",
       "Total Rating         int64\n",
       "No of Comments       int64\n",
       "Image and Video      int64\n",
       "Parent Category     string\n",
       "dtype: object"
      ]
     },
     "execution_count": 281,
     "metadata": {},
     "output_type": "execute_result"
    }
   ],
   "source": [
    "df1.dtypes"
   ]
  },
  {
   "attachments": {},
   "cell_type": "markdown",
   "metadata": {},
   "source": [
    "## Export to file"
   ]
  },
  {
   "cell_type": "code",
   "execution_count": 282,
   "metadata": {},
   "outputs": [],
   "source": [
    "df1.to_csv('./data/extracted/do_dien_tu.csv')"
   ]
  }
 ],
 "metadata": {
  "kernelspec": {
   "display_name": "test_crawl",
   "language": "python",
   "name": "python3"
  },
  "language_info": {
   "codemirror_mode": {
    "name": "ipython",
    "version": 3
   },
   "file_extension": ".py",
   "mimetype": "text/x-python",
   "name": "python",
   "nbconvert_exporter": "python",
   "pygments_lexer": "ipython3",
   "version": "3.8.15"
  },
  "orig_nbformat": 4,
  "vscode": {
   "interpreter": {
    "hash": "fd2b7f9ba25d047457c4200e71863d31b38715de99ffa44e5e70c82f7aa9d44c"
   }
  }
 },
 "nbformat": 4,
 "nbformat_minor": 2
}
