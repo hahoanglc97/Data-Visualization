{
 "cells": [
  {
   "attachments": {},
   "cell_type": "markdown",
   "metadata": {},
   "source": [
    "## Join 2 links list of do dien tu"
   ]
  },
  {
   "cell_type": "code",
   "execution_count": 13,
   "metadata": {},
   "outputs": [],
   "source": [
    "import pandas as pd\n",
    "import constants as const\n",
    "df1 = pd.read_csv('./data/links_product_do_dien_tu_1.csv')\n",
    "df2 = pd.read_csv('./data/links_product_do_dien_tu_2.csv')\n",
    "value_1 = df1['link']\n",
    "value_2 = df2['link']\n",
    "result = pd.concat([value_1, value_2], ignore_index=True)\n",
    "result.to_csv('./data/links_product_do_dien_tu.csv')"
   ]
  },
  {
   "attachments": {},
   "cell_type": "markdown",
   "metadata": {},
   "source": [
    "### ignore"
   ]
  },
  {
   "cell_type": "code",
   "execution_count": 5,
   "metadata": {},
   "outputs": [],
   "source": [
    "import pandas as pd\n",
    "# df = pd.read_csv('./data/links_product_thoi_trang.csv')\n",
    "df = pd.read_csv('./data/links_product_do_dien_tu.csv')\n",
    "df.drop_duplicates(inplace=True)"
   ]
  },
  {
   "cell_type": "code",
   "execution_count": 1,
   "metadata": {},
   "outputs": [],
   "source": [
    "import pandas as pd\n",
    "import constants as const\n",
    "import os\n",
    "\n",
    "df = pd.read_csv('./data/links_product_thoi_trang.csv')\n",
    "df_new = df[0:10]\n",
    "outdir = f'{const.EXTRACTED_FOLDER}thoi_trang/'\n",
    "outname = 'test.csv'\n",
    "if not os.path.exists(outdir):\n",
    "     os.mkdir(outdir)\n",
    "fullname = os.path.join(outdir, outname) \n",
    "df_new.to_csv(fullname)\n",
    "# print(os.getcwd())\n",
    "# print(f'{const.EXTRACTED_FOLDER}thoi_trang/timeout.csv')\n"
   ]
  },
  {
   "attachments": {},
   "cell_type": "markdown",
   "metadata": {},
   "source": [
    "## Join data extracted"
   ]
  },
  {
   "cell_type": "code",
   "execution_count": 12,
   "metadata": {},
   "outputs": [],
   "source": [
    "import pandas as pd\n",
    "import glob\n",
    "import os\n",
    "from pathlib import Path\n",
    "import numpy as np\n",
    "\n",
    "\n",
    "# os.getcwd()\n",
    "path = f'./data/extracted/thoi_trang/'\n",
    "files = Path(path).glob('*.csv')\n",
    "dfs = list()\n",
    "for f in files:\n",
    "    data = pd.read_csv(f, index_col=0)\n",
    "    # # .stem is method for pathlib objects to get the filename w/o the extension\n",
    "    # data['file'] = f.stem\n",
    "    dfs.append(data)\n",
    "\n",
    "result = pd.concat(dfs, ignore_index=True)\n",
    "result.to_csv('./data/extracted/thoi_trang_raw.csv')"
   ]
  },
  {
   "cell_type": "code",
   "execution_count": 13,
   "metadata": {},
   "outputs": [],
   "source": [
    "import pandas as pd\n",
    "import glob\n",
    "import os\n",
    "from pathlib import Path\n",
    "import numpy as np\n",
    "\n",
    "\n",
    "# os.getcwd()\n",
    "path = f'./data/extracted/do_dien_tu/'\n",
    "files = Path(path).glob('*.csv')\n",
    "dfs = list()\n",
    "for f in files:\n",
    "    data = pd.read_csv(f, index_col=0)\n",
    "    # # .stem is method for pathlib objects to get the filename w/o the extension\n",
    "    # data['file'] = f.stem\n",
    "    dfs.append(data)\n",
    "\n",
    "result = pd.concat(dfs, ignore_index=True)\n",
    "result.to_csv('./data/extracted/do_dien_tu_raw.csv')"
   ]
  }
 ],
 "metadata": {
  "kernelspec": {
   "display_name": "test_crawl",
   "language": "python",
   "name": "python3"
  },
  "language_info": {
   "codemirror_mode": {
    "name": "ipython",
    "version": 3
   },
   "file_extension": ".py",
   "mimetype": "text/x-python",
   "name": "python",
   "nbconvert_exporter": "python",
   "pygments_lexer": "ipython3",
   "version": "3.8.15"
  },
  "orig_nbformat": 4,
  "vscode": {
   "interpreter": {
    "hash": "fd2b7f9ba25d047457c4200e71863d31b38715de99ffa44e5e70c82f7aa9d44c"
   }
  }
 },
 "nbformat": 4,
 "nbformat_minor": 2
}
